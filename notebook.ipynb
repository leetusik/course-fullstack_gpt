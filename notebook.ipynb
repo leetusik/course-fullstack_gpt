{
 "cells": [
  {
   "cell_type": "code",
   "execution_count": 1,
   "metadata": {},
   "outputs": [
    {
     "data": {
      "text/plain": [
       "{'history': [HumanMessage(content='Hi my name is Lee and I love to run.'),\n",
       "  AIMessage(content=\"Nice to meet you Mr. Lee. It's great to hear you like running!\"),\n",
       "  HumanMessage(content='And My grandpa is awesome human being.'),\n",
       "  AIMessage(content='Oh! I see. Your grandpa is great person.')]}"
      ]
     },
     "execution_count": 1,
     "metadata": {},
     "output_type": "execute_result"
    }
   ],
   "source": [
    "from langchain.memory import ConversationSummaryBufferMemory\n",
    "from langchain.chat_models import ChatOpenAI\n",
    "\n",
    "chat = ChatOpenAI(temperature=0.1, model=\"gpt-4o-mini\")\n",
    "\n",
    "memory = ConversationSummaryBufferMemory(llm=chat, return_messages=True)\n",
    "memory.max_token_limit = 100\n",
    "\n",
    "def add_message(input, output):\n",
    "    memory.save_context({\"input\":input}, {\"output\":output})\n",
    "\n",
    "def get_history():\n",
    "    return memory.load_memory_variables({})\n",
    "\n",
    "add_message(\"Hi my name is Lee and I love to run.\", \"Nice to meet you Mr. Lee. It's great to hear you like running!\")\n",
    "add_message(\"And My grandpa is awesome human being.\", \"Oh! I see. Your grandpa is great person.\")\n",
    "\n",
    "get_history()"
   ]
  },
  {
   "cell_type": "code",
   "execution_count": 2,
   "metadata": {},
   "outputs": [
    {
     "data": {
      "text/plain": [
       "{'history': [SystemMessage(content=\"The human, named Lee, introduces himself and shares his love for running. The AI responds positively, expressing pleasure in hearing about Lee's interest in running. Lee mentions that his grandpa is an awesome human being, to which the AI agrees. Lee adds that his grandpa taught him how to fish when he was young, and the AI acknowledges that fishing with grandparents creates special memories. Lee further shares that they used to go camping by the river every summer, and the AI notes that those sound like beautiful summer traditions. Lee concludes by stating that his grandpa taught him to always be kind to others.\"),\n",
       "  AIMessage(content='Your grandpa sounds very wise. Teaching kindness is one of the most valuable lessons.'),\n",
       "  HumanMessage(content='I try to live by his example every day.'),\n",
       "  AIMessage(content=\"That's really admirable. Carrying forward positive values from our elders is so important.\"),\n",
       "  HumanMessage(content='I hope I can be that kind of role model someday too.'),\n",
       "  AIMessage(content=\"I'm sure you will be! You clearly learned great values from your grandpa.\")]}"
      ]
     },
     "execution_count": 2,
     "metadata": {},
     "output_type": "execute_result"
    }
   ],
   "source": [
    "add_message(\"He taught me how to fish when I was young.\", \"That's wonderful! Fishing with grandparents creates such special memories.\")\n",
    "add_message(\"We used to go camping by the river every summer.\", \"Those sound like beautiful summer traditions. Camping and fishing are great ways to bond.\")\n",
    "add_message(\"He also taught me to always be kind to others.\", \"Your grandpa sounds very wise. Teaching kindness is one of the most valuable lessons.\")\n",
    "add_message(\"I try to live by his example every day.\", \"That's really admirable. Carrying forward positive values from our elders is so important.\")\n",
    "add_message(\"I hope I can be that kind of role model someday too.\", \"I'm sure you will be! You clearly learned great values from your grandpa.\")\n",
    "\n",
    "get_history()"
   ]
  }
 ],
 "metadata": {
  "kernelspec": {
   "display_name": "venv",
   "language": "python",
   "name": "python3"
  },
  "language_info": {
   "codemirror_mode": {
    "name": "ipython",
    "version": 3
   },
   "file_extension": ".py",
   "mimetype": "text/x-python",
   "name": "python",
   "nbconvert_exporter": "python",
   "pygments_lexer": "ipython3",
   "version": "3.11.6"
  }
 },
 "nbformat": 4,
 "nbformat_minor": 2
}
