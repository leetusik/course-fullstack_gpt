{
 "cells": [
  {
   "cell_type": "code",
   "execution_count": 32,
   "metadata": {},
   "outputs": [
    {
     "name": "stdout",
     "output_type": "stream",
     "text": [
      "content='Nice to meet you, Sugang! How can I assist you today?'\n"
     ]
    }
   ],
   "source": [
    "from langchain.chat_models import ChatOpenAI\n",
    "from langchain.memory import ConversationSummaryBufferMemory\n",
    "from langchain.prompts import ChatPromptTemplate, MessagesPlaceholder\n",
    "from langchain.schema.runnable import RunnablePassthrough\n",
    "\n",
    "\n",
    "llm = ChatOpenAI(model=\"gpt-4o-mini\", temperature=0.1,)\n",
    "\n",
    "memory = ConversationSummaryBufferMemory(\n",
    "    llm=llm,\n",
    "    max_token_limit=80,\n",
    "    return_messages=True,\n",
    ")\n",
    "# from messages!\n",
    "prompt = ChatPromptTemplate.from_messages([\n",
    "    (\"system\", \"You are a helpful AI assistant.\"),\n",
    "    MessagesPlaceholder(variable_name=\"history\"),\n",
    "    (\"human\", \"{question}\"),\n",
    "])\n",
    "\n",
    "def load_memory(input):\n",
    "    return memory.load_memory_variables({})[\"history\"]\n",
    "\n",
    "chain = RunnablePassthrough.assign(history=load_memory) | prompt | llm\n",
    "\n",
    "def chain_invoke(question):\n",
    "    result = chain.invoke({\n",
    "        \"question\":question\n",
    "    })\n",
    "    memory.save_context({\"input\":question},{\"output\":result.content},)\n",
    "    print(result)\n",
    "\n",
    "chain_invoke(\"my name is Sugang.\")"
   ]
  },
  {
   "cell_type": "code",
   "execution_count": 33,
   "metadata": {},
   "outputs": [
    {
     "name": "stdout",
     "output_type": "stream",
     "text": [
      "content='Sure! Here’s a recipe for Kimchi Fried Rice, and we can name the dish \"Sugang\\'s Kimchi Fried Rice.\"\\n\\n### Sugang\\'s Kimchi Fried Rice\\n\\n#### Ingredients:\\n- 2 cups cooked rice (preferably day-old)\\n- 1 cup kimchi, chopped (plus some kimchi juice)\\n- 1 small onion, diced\\n- 2 green onions, chopped\\n- 1-2 cloves garlic, minced\\n- 1 tablespoon vegetable oil (or sesame oil for extra flavor)\\n- 1 tablespoon soy sauce (adjust to taste)\\n- 1 teaspoon gochujang (Korean chili paste) - optional for extra spice\\n- 2 eggs (optional)\\n- Salt and pepper to taste\\n- Sesame seeds for garnish (optional)\\n\\n#### Instructions:\\n\\n1. **Prepare the Ingredients**: Make sure your rice is cold and clump-free. Chop the kimchi, onion, and green onions, and mince the garlic.\\n\\n2. **Heat the Pan**: In a large skillet or wok, heat the vegetable oil over medium heat.\\n\\n3. **Sauté Aromatics**: Add the diced onion and minced garlic to the pan. Sauté until the onion becomes translucent.\\n\\n4. **Add Kimchi**: Stir in the chopped kimchi and cook for about 2-3 minutes until it’s heated through and slightly caramelized.\\n\\n5. **Add Rice**: Add the cooked rice to the pan. Break up any clumps and mix well with the kimchi and onions.\\n\\n6. **Season**: Pour in the soy sauce and kimchi juice (to taste). If you like it spicy, add gochujang. Stir everything together and cook for another 3-5 minutes, allowing the rice to fry a bit.\\n\\n7. **Add Eggs (Optional)**: If you want to add eggs, push the rice to one side of the pan, crack the eggs into the empty side, and scramble them. Once cooked, mix them into the rice.\\n\\n8. **Finish Up**: Stir in the chopped green onions and season with salt and pepper to taste. \\n\\n9. **Serve**: Serve hot, garnished with sesame seeds if desired.\\n\\nEnjoy your delicious Sugang\\'s Kimchi Fried Rice! Let me know if you need any more help or variations!'\n"
     ]
    }
   ],
   "source": [
    "chain_invoke(\"How to make Kimchi fried rice and name the menu put the name of mine.\")"
   ]
  }
 ],
 "metadata": {
  "kernelspec": {
   "display_name": "venv",
   "language": "python",
   "name": "python3"
  },
  "language_info": {
   "codemirror_mode": {
    "name": "ipython",
    "version": 3
   },
   "file_extension": ".py",
   "mimetype": "text/x-python",
   "name": "python",
   "nbconvert_exporter": "python",
   "pygments_lexer": "ipython3",
   "version": "3.11.6"
  }
 },
 "nbformat": 4,
 "nbformat_minor": 2
}
