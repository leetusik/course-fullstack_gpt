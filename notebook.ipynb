{
 "cells": [
  {
   "cell_type": "code",
   "execution_count": 8,
   "metadata": {},
   "outputs": [],
   "source": [
    "from langchain.chat_models import ChatOpenAI\n",
    "from langchain.prompts import PromptTemplate, ChatPromptTemplate\n",
    "\n",
    "template = PromptTemplate.from_template(\"how far is the {city_a} from the {city_b}? And what is your name?\")\n",
    "\n",
    "chat = ChatOpenAI(model_name=\"gpt-4o-mini\")\n",
    "\n",
    "prompt = template.format(city_a=\"Seoul\", city_b=\"Beijing\")\n",
    "# chat.predict(prompt)\n"
   ]
  },
  {
   "cell_type": "code",
   "execution_count": 9,
   "metadata": {},
   "outputs": [
    {
     "data": {
      "text/plain": [
       "AIMessage(content='ソウルから北京までの距離は約950キロメートルです。私の名前は特にありませんが、あなたの質問にお答えするためにここにいます。')"
      ]
     },
     "execution_count": 9,
     "metadata": {},
     "output_type": "execute_result"
    }
   ],
   "source": [
    "\n",
    "template = ChatPromptTemplate.from_messages([\n",
    "    (\"system\", \"You are a helpful assistant that answers questions about the distance between cities. you only reply with {language}.\"),\n",
    "    (\"ai\", \"안녕하세요? 제 이름은 {ai_name}이에요. 무엇을 도와드릴까요?\"),\n",
    "    (\"human\", \"how far is the {city_a} from the {city_b}? And what is your name?\"),\n",
    "])\n",
    "\n",
    "prompt = template.format_messages(language=\"Japanese\", ai_name=\"Nakamura\", city_a=\"Seoul\", city_b=\"Beijing\")\n",
    "\n",
    "chat.predict_messages(prompt)"
   ]
  }
 ],
 "metadata": {
  "kernelspec": {
   "display_name": "venv",
   "language": "python",
   "name": "python3"
  },
  "language_info": {
   "codemirror_mode": {
    "name": "ipython",
    "version": 3
   },
   "file_extension": ".py",
   "mimetype": "text/x-python",
   "name": "python",
   "nbconvert_exporter": "python",
   "pygments_lexer": "ipython3",
   "version": "3.11.6"
  }
 },
 "nbformat": 4,
 "nbformat_minor": 2
}
