{
 "cells": [
  {
   "cell_type": "code",
   "execution_count": 23,
   "metadata": {},
   "outputs": [
    {
     "data": {
      "text/plain": [
       "'To make Italian pasta, you will need the following ingredients:\\n\\n- 2 cups of all-purpose flour\\n- 2 large eggs\\n- Pinch of salt\\n\\nHere is a step-by-step guide to making Italian pasta:\\n\\n1. On a clean work surface, pour the flour and create a well in the center.\\n2. Crack the eggs into the well and add a pinch of salt.\\n3. Using a fork, gradually mix the eggs into the flour until a dough forms.\\n4. Knead the dough for about 10 minutes until it is smooth and elastic.\\n5. Wrap the dough in plastic wrap and let it rest for at least 30 minutes.\\n6. After resting, roll out the dough using a pasta machine or a rolling pin until it is thin.\\n7. Cut the dough into your desired shape, such as fettuccine or spaghetti.\\n8. Cook the pasta in a large pot of boiling salted water for 2-3 minutes or until al dente.\\n9. Drain the pasta and toss with your favorite sauce or toppings.\\n\\nEnjoy your homemade Italian pasta!'"
      ]
     },
     "execution_count": 23,
     "metadata": {},
     "output_type": "execute_result"
    }
   ],
   "source": [
    "from langchain.chat_models import ChatOpenAI\n",
    "from langchain.callbacks import StreamingStdOutCallbackHandler\n",
    "from langchain.globals import set_llm_cache, set_debug\n",
    "from langchain.cache import InMemoryCache, SQLiteCache\n",
    "\n",
    "set_llm_cache(SQLiteCache(\"cache.db\"))\n",
    "\n",
    "\n",
    "chat = ChatOpenAI(\n",
    "    temperature=0.1,\n",
    "    # streaming=True,\n",
    "    # callbacks=[\n",
    "    #     StreamingStdOutCallbackHandler(),\n",
    "    # ],\n",
    ")\n",
    "\n",
    "chat.predict(\"How do you make italian pasta\")"
   ]
  },
  {
   "cell_type": "code",
   "execution_count": 24,
   "metadata": {},
   "outputs": [
    {
     "data": {
      "text/plain": [
       "'To make Italian pasta, you will need the following ingredients:\\n\\n- 2 cups of all-purpose flour\\n- 2 large eggs\\n- Pinch of salt\\n\\nHere is a step-by-step guide to making Italian pasta:\\n\\n1. On a clean work surface, pour the flour and create a well in the center.\\n2. Crack the eggs into the well and add a pinch of salt.\\n3. Using a fork, gradually mix the eggs into the flour until a dough forms.\\n4. Knead the dough for about 10 minutes until it is smooth and elastic.\\n5. Wrap the dough in plastic wrap and let it rest for at least 30 minutes.\\n6. After resting, roll out the dough using a pasta machine or a rolling pin until it is thin.\\n7. Cut the dough into your desired shape, such as fettuccine or spaghetti.\\n8. Cook the pasta in a large pot of boiling salted water for 2-3 minutes or until al dente.\\n9. Drain the pasta and toss with your favorite sauce or toppings.\\n\\nEnjoy your homemade Italian pasta!'"
      ]
     },
     "execution_count": 24,
     "metadata": {},
     "output_type": "execute_result"
    }
   ],
   "source": [
    "chat.predict(\"How do you make italian pasta\")"
   ]
  },
  {
   "cell_type": "code",
   "execution_count": 25,
   "metadata": {},
   "outputs": [
    {
     "data": {
      "text/plain": [
       "'Here is a classic Italian pasta recipe for Spaghetti Carbonara:\\n\\nIngredients:\\n- 1 pound spaghetti\\n- 6 slices of pancetta or bacon, chopped\\n- 4 large eggs\\n- 1 cup grated Pecorino Romano cheese\\n- 1/2 teaspoon freshly ground black pepper\\n- 1/4 cup chopped fresh parsley\\n\\nInstructions:\\n1. Cook the spaghetti in a large pot of boiling salted water until al dente. Drain and reserve 1 cup of the pasta water.\\n2. In a large skillet, cook the pancetta or bacon over medium heat until crispy. Remove from the skillet and set aside.\\n3. In a bowl, whisk together the eggs, Pecorino Romano cheese, and black pepper.\\n4. Add the cooked spaghetti to the skillet with the pancetta or bacon. Toss to combine.\\n5. Remove the skillet from the heat and quickly stir in the egg and cheese mixture. The heat from the pasta will cook the eggs and create a creamy sauce. If the sauce is too thick, add some of the reserved pasta water.\\n6. Serve the spaghetti carbonara topped with chopped parsley and additional grated cheese, if desired.\\n\\nEnjoy your delicious and authentic Italian pasta dish!'"
      ]
     },
     "execution_count": 25,
     "metadata": {},
     "output_type": "execute_result"
    }
   ],
   "source": [
    "chat.predict(\"give me italian pasta recipe.\")"
   ]
  },
  {
   "cell_type": "code",
   "execution_count": 26,
   "metadata": {},
   "outputs": [
    {
     "data": {
      "text/plain": [
       "\"One classic Italian pasta recipe is Spaghetti Carbonara. Here's how to make it:\\n\\nIngredients:\\n- 1 pound spaghetti\\n- 6 slices of pancetta or bacon, chopped\\n- 4 large eggs\\n- 1 cup grated Pecorino Romano cheese\\n- 1/2 teaspoon freshly ground black pepper\\n- Salt to taste\\n- Fresh parsley, chopped (for garnish)\\n\\nInstructions:\\n1. Cook the spaghetti in a large pot of salted boiling water according to package instructions until al dente. Reserve 1 cup of pasta water before draining the spaghetti.\\n2. In a large skillet, cook the pancetta or bacon over medium heat until crispy. Remove from heat and set aside.\\n3. In a bowl, whisk together the eggs, Pecorino Romano cheese, black pepper, and a pinch of salt.\\n4. Add the drained spaghetti to the skillet with the pancetta or bacon. Toss to combine.\\n5. Remove the skillet from heat and quickly pour in the egg and cheese mixture, stirring constantly to coat the spaghetti. If the sauce is too thick, add some of the reserved pasta water to thin it out.\\n6. Serve the spaghetti carbonara hot, garnished with chopped parsley.\\n\\nEnjoy your delicious and creamy Spaghetti Carbonara!\""
      ]
     },
     "execution_count": 26,
     "metadata": {},
     "output_type": "execute_result"
    }
   ],
   "source": [
    "chat.predict(\"give me italian pasta recipe.\")"
   ]
  },
  {
   "cell_type": "code",
   "execution_count": 27,
   "metadata": {},
   "outputs": [
    {
     "data": {
      "text/plain": [
       "'1. Boil water in a large pot and add a generous amount of salt.\\n\\n2. Add the pasta to the boiling water and cook according to package instructions, usually around 8-10 minutes for dried pasta.\\n\\n3. While the pasta is cooking, heat up your favorite pasta sauce in a separate pan.\\n\\n4. Once the pasta is cooked, drain it and add it to the pan with the sauce. Toss to combine and heat through for a few minutes.\\n\\n5. Serve hot with grated cheese and fresh herbs, if desired. Enjoy your quick and delicious Italian pasta!'"
      ]
     },
     "execution_count": 27,
     "metadata": {},
     "output_type": "execute_result"
    }
   ],
   "source": [
    "chat.predict(\"How do you make italian pasta real quick\")"
   ]
  }
 ],
 "metadata": {
  "kernelspec": {
   "display_name": "venv",
   "language": "python",
   "name": "python3"
  },
  "language_info": {
   "codemirror_mode": {
    "name": "ipython",
    "version": 3
   },
   "file_extension": ".py",
   "mimetype": "text/x-python",
   "name": "python",
   "nbconvert_exporter": "python",
   "pygments_lexer": "ipython3",
   "version": "3.11.6"
  }
 },
 "nbformat": 4,
 "nbformat_minor": 2
}
